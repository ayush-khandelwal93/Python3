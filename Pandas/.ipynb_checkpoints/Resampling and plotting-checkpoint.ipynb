{
 "cells": [
  {
   "cell_type": "code",
   "execution_count": 2,
   "metadata": {},
   "outputs": [],
   "source": [
    "import pandas as pd\n",
    "df=pd.read_pickle('data/percent_change_df.pickle')"
   ]
  },
  {
   "cell_type": "code",
   "execution_count": 3,
   "metadata": {},
   "outputs": [
    {
     "name": "stdout",
     "output_type": "stream",
     "text": [
      "                  AK        AL        AR        AZ        CA        CO  \\\n",
      "Date                                                                     \n",
      "1975-01-31  0.000000  0.000000  0.000000  0.000000  0.000000  0.000000   \n",
      "1975-02-28  1.481200  0.562515  0.980164  1.817604  0.336400  1.189358   \n",
      "1975-03-31  2.997765  1.225749  1.844199  3.530959  1.543223  2.394954   \n",
      "1975-04-30  4.576052  2.044344  2.555748  4.863591  3.518790  3.559925   \n",
      "1975-05-31  6.294231  2.800690  3.217949  5.559227  5.156398  4.545496   \n",
      "\n",
      "                  CT        DE         FL        GA    ...           SD  \\\n",
      "Date                                                   ...                \n",
      "1975-01-31  0.000000  0.000000   0.000000  0.000000    ...     0.000000   \n",
      "1975-02-28  2.210168 -0.051745   3.974592 -0.879933    ...    -1.067211   \n",
      "1975-03-31  3.874219  0.013333   9.776619 -1.245574    ...    -2.156154   \n",
      "1975-04-30  4.808115  0.358817  16.843650 -1.040342    ...    -3.244698   \n",
      "1975-05-31  5.107319  1.089500  17.552679 -0.682149    ...    -4.243870   \n",
      "\n",
      "                  TN        TX        UT        VA        VT        WA  \\\n",
      "Date                                                                     \n",
      "1975-01-31  0.000000  0.000000  0.000000  0.000000  0.000000  0.000000   \n",
      "1975-02-28  0.121091  1.048285  1.467712  1.050315  1.196247  0.496091   \n",
      "1975-03-31  0.363292  2.885144  2.764815  1.819130  2.354232  1.174779   \n",
      "1975-04-30  0.735722  5.522535  3.760255  2.386455  3.412273  1.913011   \n",
      "1975-05-31  1.191986  6.279930  4.388367  2.883894  4.343927  2.567797   \n",
      "\n",
      "                  WI         WV        WY  \n",
      "Date                                       \n",
      "1975-01-31  0.000000   0.000000  0.000000  \n",
      "1975-02-28  1.385947   2.532556  1.557138  \n",
      "1975-03-31  2.719078   5.171480  3.194727  \n",
      "1975-04-30  3.873343   7.895025  4.867033  \n",
      "1975-05-31  4.793289  10.636412  6.458518  \n",
      "\n",
      "[5 rows x 50 columns]\n"
     ]
    }
   ],
   "source": [
    "print (df.head())"
   ]
  },
  {
   "cell_type": "code",
   "execution_count": 32,
   "metadata": {},
   "outputs": [],
   "source": [
    "tx=df['TX']"
   ]
  },
  {
   "cell_type": "code",
   "execution_count": 33,
   "metadata": {},
   "outputs": [
    {
     "name": "stdout",
     "output_type": "stream",
     "text": [
      "Date\n",
      "1975-01-31    0.000000\n",
      "1975-02-28    1.048285\n",
      "1975-03-31    2.885144\n",
      "1975-04-30    5.522535\n",
      "1975-05-31    6.279930\n",
      "Name: TX, dtype: float64\n"
     ]
    }
   ],
   "source": [
    "print (tx.head())"
   ]
  },
  {
   "cell_type": "code",
   "execution_count": 56,
   "metadata": {},
   "outputs": [],
   "source": [
    "tx1yr=tx.resample('A').asfreq()"
   ]
  },
  {
   "cell_type": "code",
   "execution_count": 57,
   "metadata": {},
   "outputs": [
    {
     "name": "stdout",
     "output_type": "stream",
     "text": [
      "Date\n",
      "1975-12-31     5.808212\n",
      "1976-12-31    14.214806\n",
      "1977-12-31    29.339842\n",
      "1978-12-31    49.482023\n",
      "1979-12-31    74.449689\n",
      "Freq: A-DEC, Name: TX, dtype: float64\n",
      "<class 'pandas.core.series.Series'>\n"
     ]
    }
   ],
   "source": [
    "print(tx1yr.head())\n",
    "print (type(tx1yr))"
   ]
  },
  {
   "cell_type": "code",
   "execution_count": 58,
   "metadata": {},
   "outputs": [
    {
     "data": {
      "text/plain": [
       "<Figure size 432x288 with 0 Axes>"
      ]
     },
     "metadata": {},
     "output_type": "display_data"
    }
   ],
   "source": [
    "import matplotlib.pyplot as plt\n",
    "fig=plt.figure()"
   ]
  },
  {
   "cell_type": "code",
   "execution_count": 59,
   "metadata": {},
   "outputs": [
    {
     "data": {
      "image/png": "[encoded data removed]",
      "text/plain": [
       "<Figure size 432x288 with 1 Axes>"
      ]
     },
     "metadata": {
      "needs_background": "light"
     },
     "output_type": "display_data"
    }
   ],
   "source": [
    "ax1=plt.subplot2grid((1,1,),(0,0))"
   ]
  },
  {
   "cell_type": "code",
   "execution_count": 60,
   "metadata": {},
   "outputs": [
    {
     "data": {
      "image/png": "[encoded data removed]",
      "text/plain": [
       "<Figure size 432x288 with 1 Axes>"
      ]
     },
     "metadata": {
      "needs_background": "light"
     },
     "output_type": "display_data"
    }
   ],
   "source": [
    "#import matplotlib.pyplot as plt\n",
    "fig=plt.figure()\n",
    "ax1=plt.subplot2grid((1,1),(0,0))\n",
    "df['TX'].plot(ax=ax1)\n",
    "tx1yr.plot(color='k',ax=ax1)\n",
    "plt.legend().remove()\n",
    "plt.show()"
   ]
  },
  {
   "cell_type": "code",
   "execution_count": 37,
   "metadata": {},
   "outputs": [
    {
     "name": "stdout",
     "output_type": "stream",
     "text": [
      "Date\n",
      "1975-01-31    0.000000\n",
      "1975-02-28    1.048285\n",
      "1975-03-31    2.885144\n",
      "1975-04-30    5.522535\n",
      "1975-05-31    6.279930\n",
      "Name: TX, dtype: float64\n",
      "Date\n",
      "1975-12-31     5.808212\n",
      "1976-12-31    14.214806\n",
      "1977-12-31    29.339842\n",
      "1978-12-31    49.482023\n",
      "1979-12-31    74.449689\n",
      "Freq: A-DEC, Name: TX, dtype: float64\n"
     ]
    }
   ],
   "source": [
    "print(df['TX'].head())\n",
    "print(tx1yr.asfreq().head())"
   ]
  },
  {
   "cell_type": "code",
   "execution_count": null,
   "metadata": {},
   "outputs": [],
   "source": []
  }
 ],
 "metadata": {
  "kernelspec": {
   "display_name": "Python 3",
   "language": "python",
   "name": "python3"
  },
  "language_info": {
   "codemirror_mode": {
    "name": "ipython",
    "version": 3
   },
   "file_extension": ".py",
   "mimetype": "text/x-python",
   "name": "python",
   "nbconvert_exporter": "python",
   "pygments_lexer": "ipython3",
   "version": "3.6.6"
  }
 },
 "nbformat": 4,
 "nbformat_minor": 2
}
