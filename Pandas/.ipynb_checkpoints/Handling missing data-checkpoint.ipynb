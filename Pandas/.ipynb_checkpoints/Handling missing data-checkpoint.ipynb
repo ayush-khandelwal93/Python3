{
 "cells": [
  {
   "cell_type": "code",
   "execution_count": 1,
   "metadata": {},
   "outputs": [],
   "source": [
    "import pandas as pd\n",
    "df=pd.read_pickle('data/percent_change_df.pickle')"
   ]
  },
  {
   "cell_type": "code",
   "execution_count": 13,
   "metadata": {},
   "outputs": [
    {
     "name": "stderr",
     "output_type": "stream",
     "text": [
      "/home/ayush/anaconda3/lib/python3.6/site-packages/ipykernel_launcher.py:1: FutureWarning: how in .resample() is deprecated\n",
      "the new syntax is .resample(...).mean()\n",
      "  \"\"\"Entry point for launching an IPython kernel.\n"
     ]
    }
   ],
   "source": [
    "TX1yr=df['TX'].resample('A',how='mean')"
   ]
  },
  {
   "cell_type": "code",
   "execution_count": 14,
   "metadata": {},
   "outputs": [
    {
     "name": "stdout",
     "output_type": "stream",
     "text": [
      "Date\n",
      "1975-12-31     4.039782\n",
      "1976-12-31    11.367589\n",
      "1977-12-31    22.555985\n",
      "1978-12-31    40.746679\n",
      "1979-12-31    63.361461\n",
      "Freq: A-DEC, Name: TX, dtype: float64\n"
     ]
    }
   ],
   "source": [
    "print (TX1yr.head())"
   ]
  },
  {
   "cell_type": "code",
   "execution_count": 15,
   "metadata": {},
   "outputs": [],
   "source": [
    "df['TX1yr']=TX1yr"
   ]
  },
  {
   "cell_type": "code",
   "execution_count": 16,
   "metadata": {},
   "outputs": [
    {
     "name": "stdout",
     "output_type": "stream",
     "text": [
      "                    TX       TX1yr\n",
      "Date                              \n",
      "1975-01-31    0.000000         NaN\n",
      "1975-02-28    1.048285         NaN\n",
      "1975-03-31    2.885144         NaN\n",
      "1975-04-30    5.522535         NaN\n",
      "1975-05-31    6.279930         NaN\n",
      "1975-06-30    4.943390         NaN\n",
      "1975-07-31    4.060241         NaN\n",
      "1975-08-31    3.957322         NaN\n",
      "1975-09-30    4.212887         NaN\n",
      "1975-10-31    4.559392         NaN\n",
      "1975-11-30    5.200047         NaN\n",
      "1975-12-31    5.808212    4.039782\n",
      "1976-01-31    6.203136         NaN\n",
      "1976-02-29    7.131344         NaN\n",
      "1976-03-31    9.368436         NaN\n",
      "1976-04-30   12.497731         NaN\n",
      "1976-05-31   13.437402         NaN\n",
      "1976-06-30   12.234549         NaN\n",
      "1976-07-31   11.638586         NaN\n",
      "1976-08-31   11.629461         NaN\n",
      "1976-09-30   11.920795         NaN\n",
      "1976-10-31   12.592066         NaN\n",
      "1976-11-30   13.542754         NaN\n",
      "1976-12-31   14.214806   11.367589\n",
      "1977-01-31   14.767123         NaN\n",
      "1977-02-28   16.116579         NaN\n",
      "1977-03-31   19.310499         NaN\n",
      "1977-04-30   24.399287         NaN\n",
      "1977-05-31   25.349441         NaN\n",
      "1977-06-30   22.349520         NaN\n",
      "...                ...         ...\n",
      "2015-07-31  409.941887         NaN\n",
      "2015-08-31  410.344660         NaN\n",
      "2015-09-30  410.657349         NaN\n",
      "2015-10-31  412.080763         NaN\n",
      "2015-11-30  412.895710         NaN\n",
      "2015-12-31  413.158489  402.358972\n",
      "2016-01-31  415.281972         NaN\n",
      "2016-02-29  420.394308         NaN\n",
      "2016-03-31  425.678404         NaN\n",
      "2016-04-30  430.949410         NaN\n",
      "2016-05-31  437.253746         NaN\n",
      "2016-06-30  441.911866         NaN\n",
      "2016-07-31  444.779409         NaN\n",
      "2016-08-31  447.332053         NaN\n",
      "2016-09-30  449.173573         NaN\n",
      "2016-10-31  449.590465         NaN\n",
      "2016-11-30  448.840118         NaN\n",
      "2016-12-31  448.818076  438.333617\n",
      "2017-01-31  452.201606         NaN\n",
      "2017-02-28  457.698982         NaN\n",
      "2017-03-31  463.995109         NaN\n",
      "2017-04-30  472.562410         NaN\n",
      "2017-05-31  479.669567         NaN\n",
      "2017-06-30  482.397032         NaN\n",
      "2017-07-31  483.343331         NaN\n",
      "2017-08-31  484.025247         NaN\n",
      "2017-09-30  485.072904         NaN\n",
      "2017-10-31  485.850694         NaN\n",
      "2017-11-30  486.331279         NaN\n",
      "2017-12-31  487.732400  476.740047\n",
      "\n",
      "[516 rows x 2 columns]\n"
     ]
    }
   ],
   "source": [
    "print(df[['TX','TX1yr']])"
   ]
  },
  {
   "cell_type": "code",
   "execution_count": 17,
   "metadata": {},
   "outputs": [
    {
     "name": "stdout",
     "output_type": "stream",
     "text": [
      "                  AK        AL        AR        AZ        CA        CO  \\\n",
      "Date                                                                     \n",
      "1975-01-31  0.000000  0.000000  0.000000  0.000000  0.000000  0.000000   \n",
      "1975-02-28  1.481200  0.562515  0.980164  1.817604  0.336400  1.189358   \n",
      "1975-03-31  2.997765  1.225749  1.844199  3.530959  1.543223  2.394954   \n",
      "1975-04-30  4.576052  2.044344  2.555748  4.863591  3.518790  3.559925   \n",
      "1975-05-31  6.294231  2.800690  3.217949  5.559227  5.156398  4.545496   \n",
      "\n",
      "                  CT        DE         FL        GA  ...          TN  \\\n",
      "Date                                                 ...               \n",
      "1975-01-31  0.000000  0.000000   0.000000  0.000000  ...    0.000000   \n",
      "1975-02-28  2.210168 -0.051745   3.974592 -0.879933  ...    0.121091   \n",
      "1975-03-31  3.874219  0.013333   9.776619 -1.245574  ...    0.363292   \n",
      "1975-04-30  4.808115  0.358817  16.843650 -1.040342  ...    0.735722   \n",
      "1975-05-31  5.107319  1.089500  17.552679 -0.682149  ...    1.191986   \n",
      "\n",
      "                  TX        UT        VA        VT        WA        WI  \\\n",
      "Date                                                                     \n",
      "1975-01-31  0.000000  0.000000  0.000000  0.000000  0.000000  0.000000   \n",
      "1975-02-28  1.048285  1.467712  1.050315  1.196247  0.496091  1.385947   \n",
      "1975-03-31  2.885144  2.764815  1.819130  2.354232  1.174779  2.719078   \n",
      "1975-04-30  5.522535  3.760255  2.386455  3.412273  1.913011  3.873343   \n",
      "1975-05-31  6.279930  4.388367  2.883894  4.343927  2.567797  4.793289   \n",
      "\n",
      "                   WV        WY  TX1yr  \n",
      "Date                                    \n",
      "1975-01-31   0.000000  0.000000    NaN  \n",
      "1975-02-28   2.532556  1.557138    NaN  \n",
      "1975-03-31   5.171480  3.194727    NaN  \n",
      "1975-04-30   7.895025  4.867033    NaN  \n",
      "1975-05-31  10.636412  6.458518    NaN  \n",
      "\n",
      "[5 rows x 51 columns]\n"
     ]
    }
   ],
   "source": [
    "print (df.head())"
   ]
  },
  {
   "cell_type": "code",
   "execution_count": 18,
   "metadata": {},
   "outputs": [],
   "source": [
    "df2=df.dropna()"
   ]
  },
  {
   "cell_type": "code",
   "execution_count": 19,
   "metadata": {},
   "outputs": [
    {
     "name": "stdout",
     "output_type": "stream",
     "text": [
      "                   AK         AL         AR         AZ          CA         CO  \\\n",
      "Date                                                                            \n",
      "1975-12-31  16.615478   2.510612   4.889779   1.314238   12.740075   7.347377   \n",
      "1976-12-31  24.873369  10.141405  14.376036   6.677839   33.638473  15.836491   \n",
      "1977-12-31  34.490756  19.840951  24.343152  19.108630   68.462721  37.253456   \n",
      "1978-12-31  49.935830  32.293711  37.814982  43.290370   94.682919  62.603156   \n",
      "1979-12-31  61.744085  41.508865  53.325035  71.284178  130.428312  85.166468   \n",
      "\n",
      "                   CT         DE         FL         GA    ...             TN  \\\n",
      "Date                                                      ...                  \n",
      "1975-12-31   7.127718   5.239962   7.718282  -3.828728    ...       7.273019   \n",
      "1976-12-31  12.127958   7.238110   9.873553   0.254334    ...       9.414930   \n",
      "1977-12-31  25.037749  15.251869  18.342289   5.457973    ...      22.957720   \n",
      "1978-12-31  44.945867  18.628278  31.353768  15.421114    ...      32.322350   \n",
      "1979-12-31  58.637091  34.036289  51.201263  30.283590    ...      43.606988   \n",
      "\n",
      "                   TX         UT         VA         VT          WA         WI  \\\n",
      "Date                                                                            \n",
      "1975-12-31   5.808212   7.684706   4.051935   6.514662    6.760256   8.948556   \n",
      "1976-12-31  14.214806  18.246448   9.866415  12.291167   22.969621  15.608005   \n",
      "1977-12-31  29.339842  35.072726  19.478327  21.967564   51.089915  34.425929   \n",
      "1978-12-31  49.482023  60.800878  33.632144  37.689281   81.649073  48.158363   \n",
      "1979-12-31  74.449689  75.115083  46.802710  44.469636  108.011051  56.487582   \n",
      "\n",
      "                   WV         WY      TX1yr  \n",
      "Date                                         \n",
      "1975-12-31  18.911568  13.117721   4.039782  \n",
      "1976-12-31  18.766293  28.544264  11.367589  \n",
      "1977-12-31  31.000610  47.451664  22.555985  \n",
      "1978-12-31  46.581992  69.393032  40.746679  \n",
      "1979-12-31  51.482933  97.707564  63.361461  \n",
      "\n",
      "[5 rows x 51 columns]\n"
     ]
    }
   ],
   "source": [
    "print (df2.head())"
   ]
  },
  {
   "cell_type": "code",
   "execution_count": 20,
   "metadata": {},
   "outputs": [
    {
     "data": {
      "image/png": "[encoded data removed]",
      "text/plain": [
       "<Figure size 432x288 with 1 Axes>"
      ]
     },
     "metadata": {
      "needs_background": "light"
     },
     "output_type": "display_data"
    }
   ],
   "source": [
    "import matplotlib.pyplot as plt\n",
    "plt.figure()\n",
    "ax1=plt.subplot2grid((1,1),(0,0))\n",
    "df2['TX'].plot(ax=ax1)\n",
    "df2['TX1yr'].plot(color='k',ax=ax1)\n",
    "plt.legend().remove()\n",
    "plt.show()"
   ]
  },
  {
   "cell_type": "code",
   "execution_count": 21,
   "metadata": {},
   "outputs": [],
   "source": [
    "df3=df.fillna(method='ffill')"
   ]
  },
  {
   "cell_type": "code",
   "execution_count": 22,
   "metadata": {},
   "outputs": [
    {
     "data": {
      "image/png": "[encoded data removed]",
      "text/plain": [
       "<Figure size 432x288 with 1 Axes>"
      ]
     },
     "metadata": {
      "needs_background": "light"
     },
     "output_type": "display_data"
    }
   ],
   "source": [
    "import matplotlib.pyplot as plt\n",
    "plt.figure()\n",
    "ax1=plt.subplot2grid((1,1),(0,0))\n",
    "df3['TX'].plot(ax=ax1)\n",
    "df3['TX1yr'].plot(color='k',ax=ax1)\n",
    "plt.legend().remove()\n",
    "plt.show()"
   ]
  },
  {
   "cell_type": "code",
   "execution_count": null,
   "metadata": {},
   "outputs": [],
   "source": []
  }
 ],
 "metadata": {
  "kernelspec": {
   "display_name": "Python 3",
   "language": "python",
   "name": "python3"
  },
  "language_info": {
   "codemirror_mode": {
    "name": "ipython",
    "version": 3
   },
   "file_extension": ".py",
   "mimetype": "text/x-python",
   "name": "python",
   "nbconvert_exporter": "python",
   "pygments_lexer": "ipython3",
   "version": "3.6.6"
  }
 },
 "nbformat": 4,
 "nbformat_minor": 2
}
