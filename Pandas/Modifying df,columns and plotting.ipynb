{
 "cells": [
  {
   "cell_type": "code",
   "execution_count": 97,
   "metadata": {},
   "outputs": [],
   "source": [
    "import pandas as pd\n",
    "import pickle"
   ]
  },
  {
   "cell_type": "code",
   "execution_count": 98,
   "metadata": {},
   "outputs": [],
   "source": [
    "df=pd.read_pickle('data/housing_pandas.pickle')"
   ]
  },
  {
   "cell_type": "code",
   "execution_count": 99,
   "metadata": {},
   "outputs": [
    {
     "name": "stdout",
     "output_type": "stream",
     "text": [
      "                   AK         AL         AR         AZ         CA         CO  \\\n",
      "Date                                                                           \n",
      "1975-01-31  34.371830  35.695975  36.738861  28.937735  15.722312  19.603977   \n",
      "1975-02-28  34.880945  35.896770  37.098962  29.463708  15.775202  19.837138   \n",
      "1975-03-31  35.402217  36.133518  37.416398  29.959514  15.964942  20.073483   \n",
      "1975-04-30  35.944703  36.425723  37.677813  30.345148  16.275547  20.301864   \n",
      "1975-05-31  36.535272  36.695708  37.921099  30.546449  16.533017  20.495075   \n",
      "\n",
      "                   CT         DC         DE         FL    ...             SD  \\\n",
      "Date                                                      ...                  \n",
      "1975-01-31  24.369431  18.255987  27.264842  30.997043    ...      37.722210   \n",
      "1975-02-28  24.908036  18.382701  27.250734  32.229049    ...      37.319634   \n",
      "1975-03-31  25.313556  18.514587  27.268478  34.027506    ...      36.908861   \n",
      "1975-04-30  25.541141  18.689302  27.362673  36.218077    ...      36.498238   \n",
      "1975-05-31  25.614056  18.937116  27.561893  36.437855    ...      36.121328   \n",
      "\n",
      "                   TN         TX         UT         VA         VT         WA  \\\n",
      "Date                                                                           \n",
      "1975-01-31  32.179633  32.602350  24.698474  27.912640  26.637620  17.484315   \n",
      "1975-02-28  32.218599  32.944116  25.060977  28.205810  26.956271  17.571053   \n",
      "1975-03-31  32.296539  33.542975  25.381341  28.420407  27.264731  17.689717   \n",
      "1975-04-30  32.416385  34.402826  25.627200  28.578762  27.546568  17.818792   \n",
      "1975-05-31  32.563209  34.649755  25.782334  28.717611  27.794738  17.933277   \n",
      "\n",
      "                   WI         WV         WY  \n",
      "Date                                         \n",
      "1975-01-31  28.096764  41.002072  31.668794  \n",
      "1975-02-28  28.486170  42.040473  32.161920  \n",
      "1975-03-31  28.860737  43.122486  32.680525  \n",
      "1975-04-30  29.185048  44.239196  33.210124  \n",
      "1975-05-31  29.443523  45.363222  33.714128  \n",
      "\n",
      "[5 rows x 51 columns]\n",
      "(516, 51)\n"
     ]
    }
   ],
   "source": [
    "print (df.head())\n",
    "print(df.shape)"
   ]
  },
  {
   "cell_type": "markdown",
   "metadata": {},
   "source": [
    "## Converting series to df and use of the name parameter in series, plus check the type of the extracted columns,i.e it is a series of df\n",
    "https://stackoverflow.com/questions/31292140/what-is-the-name-parameter-in-pandas-series"
   ]
  },
  {
   "cell_type": "code",
   "execution_count": 101,
   "metadata": {},
   "outputs": [
    {
     "name": "stdout",
     "output_type": "stream",
     "text": [
      "<class 'pandas.core.series.Series'>\n",
      "Date\n",
      "1975-01-31    18.255987\n",
      "1975-02-28    18.382701\n",
      "1975-03-31    18.514587\n",
      "1975-04-30    18.689302\n",
      "1975-05-31    18.937116\n",
      "Name: DC, dtype: float64\n",
      "['Date']\n",
      "                   DC\n",
      "Date                 \n",
      "1975-01-31  18.255987\n",
      "1975-02-28  18.382701\n",
      "1975-03-31  18.514587\n",
      "1975-04-30  18.689302\n",
      "1975-05-31  18.937116\n"
     ]
    }
   ],
   "source": [
    "df_usa_series=df['DC']\n",
    "print(type(df_usa_series))\n",
    "print (df_usa_series.head())\n",
    "print (df_usa_series.index.names)\n",
    "#print (df_usa_series.columns)\n",
    "df_usa_df=pd.DataFrame(df_usa_series)\n",
    "print (df_usa_df.head())"
   ]
  },
  {
   "cell_type": "markdown",
   "metadata": {},
   "source": [
    "## Deleting(Dropping) columns in df"
   ]
  },
  {
   "cell_type": "code",
   "execution_count": 102,
   "metadata": {},
   "outputs": [],
   "source": [
    "df=df.drop(columns=['DC'])"
   ]
  },
  {
   "cell_type": "code",
   "execution_count": 103,
   "metadata": {},
   "outputs": [
    {
     "name": "stdout",
     "output_type": "stream",
     "text": [
      "(516, 50)\n"
     ]
    }
   ],
   "source": [
    "print (df.shape)"
   ]
  },
  {
   "cell_type": "code",
   "execution_count": 104,
   "metadata": {},
   "outputs": [
    {
     "name": "stdout",
     "output_type": "stream",
     "text": [
      "                   DC\n",
      "Date                 \n",
      "1975-01-31  18.255987\n",
      "1975-02-28  18.382701\n",
      "1975-03-31  18.514587\n",
      "1975-04-30  18.689302\n",
      "1975-05-31  18.937116\n",
      "                   AK         AL         AR         AZ         CA         CO  \\\n",
      "Date                                                                           \n",
      "1975-01-31  34.371830  35.695975  36.738861  28.937735  15.722312  19.603977   \n",
      "1975-02-28  34.880945  35.896770  37.098962  29.463708  15.775202  19.837138   \n",
      "1975-03-31  35.402217  36.133518  37.416398  29.959514  15.964942  20.073483   \n",
      "1975-04-30  35.944703  36.425723  37.677813  30.345148  16.275547  20.301864   \n",
      "1975-05-31  36.535272  36.695708  37.921099  30.546449  16.533017  20.495075   \n",
      "\n",
      "                   CT         DE         FL         GA    ...             SD  \\\n",
      "Date                                                      ...                  \n",
      "1975-01-31  24.369431  27.264842  30.997043  30.720917    ...      37.722210   \n",
      "1975-02-28  24.908036  27.250734  32.229049  30.450593    ...      37.319634   \n",
      "1975-03-31  25.313556  27.268478  34.027506  30.338265    ...      36.908861   \n",
      "1975-04-30  25.541141  27.362673  36.218077  30.401314    ...      36.498238   \n",
      "1975-05-31  25.614056  27.561893  36.437855  30.511355    ...      36.121328   \n",
      "\n",
      "                   TN         TX         UT         VA         VT         WA  \\\n",
      "Date                                                                           \n",
      "1975-01-31  32.179633  32.602350  24.698474  27.912640  26.637620  17.484315   \n",
      "1975-02-28  32.218599  32.944116  25.060977  28.205810  26.956271  17.571053   \n",
      "1975-03-31  32.296539  33.542975  25.381341  28.420407  27.264731  17.689717   \n",
      "1975-04-30  32.416385  34.402826  25.627200  28.578762  27.546568  17.818792   \n",
      "1975-05-31  32.563209  34.649755  25.782334  28.717611  27.794738  17.933277   \n",
      "\n",
      "                   WI         WV         WY  \n",
      "Date                                         \n",
      "1975-01-31  28.096764  41.002072  31.668794  \n",
      "1975-02-28  28.486170  42.040473  32.161920  \n",
      "1975-03-31  28.860737  43.122486  32.680525  \n",
      "1975-04-30  29.185048  44.239196  33.210124  \n",
      "1975-05-31  29.443523  45.363222  33.714128  \n",
      "\n",
      "[5 rows x 50 columns]\n"
     ]
    }
   ],
   "source": [
    "df_usa=df_usa_df\n",
    "print (df_usa.head())\n",
    "print (df.head())"
   ]
  },
  {
   "cell_type": "markdown",
   "metadata": {},
   "source": [
    "## Adding columns to the Dataframe"
   ]
  },
  {
   "cell_type": "code",
   "execution_count": 105,
   "metadata": {},
   "outputs": [],
   "source": [
    "df_usa['Waste']=df_usa['DC']*2"
   ]
  },
  {
   "cell_type": "code",
   "execution_count": 106,
   "metadata": {},
   "outputs": [
    {
     "name": "stdout",
     "output_type": "stream",
     "text": [
      "                   DC      Waste\n",
      "Date                            \n",
      "1975-01-31  18.255987  36.511975\n",
      "1975-02-28  18.382701  36.765403\n",
      "1975-03-31  18.514587  37.029175\n",
      "1975-04-30  18.689302  37.378605\n",
      "1975-05-31  18.937116  37.874231\n"
     ]
    }
   ],
   "source": [
    "print (df_usa.head())"
   ]
  },
  {
   "cell_type": "markdown",
   "metadata": {},
   "source": [
    "## Deleting the waste column"
   ]
  },
  {
   "cell_type": "code",
   "execution_count": 107,
   "metadata": {},
   "outputs": [],
   "source": [
    "df_usa=df_usa.drop(columns='Waste')"
   ]
  },
  {
   "cell_type": "code",
   "execution_count": 108,
   "metadata": {},
   "outputs": [
    {
     "name": "stdout",
     "output_type": "stream",
     "text": [
      "                   DC\n",
      "Date                 \n",
      "1975-01-31  18.255987\n",
      "1975-02-28  18.382701\n",
      "1975-03-31  18.514587\n",
      "1975-04-30  18.689302\n",
      "1975-05-31  18.937116\n",
      "<class 'pandas.core.frame.DataFrame'>\n"
     ]
    }
   ],
   "source": [
    "print (df_usa.head())\n",
    "print(type(df_usa))"
   ]
  },
  {
   "cell_type": "markdown",
   "metadata": {},
   "source": [
    "## Use matplotlib to show the graph of the dataframes"
   ]
  },
  {
   "cell_type": "code",
   "execution_count": 111,
   "metadata": {},
   "outputs": [],
   "source": [
    "import matplotlib.pyplot as plt"
   ]
  },
  {
   "cell_type": "code",
   "execution_count": 113,
   "metadata": {},
   "outputs": [
    {
     "data": {
      "image/png": "[encoded data removed]",
      "text/plain": [
       "<Figure size 432x288 with 1 Axes>"
      ]
     },
     "metadata": {
      "needs_background": "light"
     },
     "output_type": "display_data"
    }
   ],
   "source": [
    "df.plot()\n",
    "plt.legend().remove()\n",
    "#plt.show()"
   ]
  },
  {
   "cell_type": "code",
   "execution_count": 114,
   "metadata": {},
   "outputs": [
    {
     "data": {
      "text/plain": [
       "<matplotlib.axes._subplots.AxesSubplot at 0x7fdc9002a320>"
      ]
     },
     "execution_count": 114,
     "metadata": {},
     "output_type": "execute_result"
    },
    {
     "data": {
      "image/png": "[encoded data removed]",
      "text/plain": [
       "<Figure size 432x288 with 1 Axes>"
      ]
     },
     "metadata": {
      "needs_background": "light"
     },
     "output_type": "display_data"
    }
   ],
   "source": [
    "df_usa.plot()\n",
    "#plt.legend().remove()"
   ]
  },
  {
   "cell_type": "markdown",
   "metadata": {},
   "source": [
    "## Changing the values of the dataframe to show percent change from the start for every us state"
   ]
  },
  {
   "cell_type": "code",
   "execution_count": 115,
   "metadata": {},
   "outputs": [],
   "source": [
    "us_states=[]\n",
    "for i in df.columns:\n",
    "    us_states.append(i)"
   ]
  },
  {
   "cell_type": "code",
   "execution_count": 116,
   "metadata": {},
   "outputs": [
    {
     "name": "stdout",
     "output_type": "stream",
     "text": [
      "['AK', 'AL', 'AR', 'AZ', 'CA', 'CO', 'CT', 'DE', 'FL', 'GA', 'HI', 'IA', 'ID', 'IL', 'IN', 'KS', 'KY', 'LA', 'MA', 'MD', 'ME', 'MI', 'MN', 'MO', 'MS', 'MT', 'NC', 'ND', 'NE', 'NH', 'NJ', 'NM', 'NV', 'NY', 'OH', 'OK', 'OR', 'PA', 'RI', 'SC', 'SD', 'TN', 'TX', 'UT', 'VA', 'VT', 'WA', 'WI', 'WV', 'WY']\n"
     ]
    }
   ],
   "source": [
    "print (us_states)"
   ]
  },
  {
   "cell_type": "code",
   "execution_count": 117,
   "metadata": {},
   "outputs": [
    {
     "name": "stdout",
     "output_type": "stream",
     "text": [
      "                  AK        AL        AR        AZ        CA        CO  \\\n",
      "Date                                                                     \n",
      "1975-01-31  0.000000  0.000000  0.000000  0.000000  0.000000  0.000000   \n",
      "1975-02-28  1.481200  0.562515  0.980164  1.817604  0.336400  1.189358   \n",
      "1975-03-31  2.997765  1.225749  1.844199  3.530959  1.543223  2.394954   \n",
      "1975-04-30  4.576052  2.044344  2.555748  4.863591  3.518790  3.559925   \n",
      "1975-05-31  6.294231  2.800690  3.217949  5.559227  5.156398  4.545496   \n",
      "\n",
      "                  CT        DE         FL        GA    ...           SD  \\\n",
      "Date                                                   ...                \n",
      "1975-01-31  0.000000  0.000000   0.000000  0.000000    ...     0.000000   \n",
      "1975-02-28  2.210168 -0.051745   3.974592 -0.879933    ...    -1.067211   \n",
      "1975-03-31  3.874219  0.013333   9.776619 -1.245574    ...    -2.156154   \n",
      "1975-04-30  4.808115  0.358817  16.843650 -1.040342    ...    -3.244698   \n",
      "1975-05-31  5.107319  1.089500  17.552679 -0.682149    ...    -4.243870   \n",
      "\n",
      "                  TN        TX        UT        VA        VT        WA  \\\n",
      "Date                                                                     \n",
      "1975-01-31  0.000000  0.000000  0.000000  0.000000  0.000000  0.000000   \n",
      "1975-02-28  0.121091  1.048285  1.467712  1.050315  1.196247  0.496091   \n",
      "1975-03-31  0.363292  2.885144  2.764815  1.819130  2.354232  1.174779   \n",
      "1975-04-30  0.735722  5.522535  3.760255  2.386455  3.412273  1.913011   \n",
      "1975-05-31  1.191986  6.279930  4.388367  2.883894  4.343927  2.567797   \n",
      "\n",
      "                  WI         WV        WY  \n",
      "Date                                       \n",
      "1975-01-31  0.000000   0.000000  0.000000  \n",
      "1975-02-28  1.385947   2.532556  1.557138  \n",
      "1975-03-31  2.719078   5.171480  3.194727  \n",
      "1975-04-30  3.873343   7.895025  4.867033  \n",
      "1975-05-31  4.793289  10.636412  6.458518  \n",
      "\n",
      "[5 rows x 50 columns]\n"
     ]
    }
   ],
   "source": [
    "for i in us_states:\n",
    "    df[i]=(df[i]-df[i][0])/(df[i][0])*100.0\n",
    "print (df.head())"
   ]
  },
  {
   "cell_type": "code",
   "execution_count": 91,
   "metadata": {},
   "outputs": [
    {
     "data": {
      "image/png": "[encoded data removed]",
      "text/plain": [
       "<Figure size 432x288 with 1 Axes>"
      ]
     },
     "metadata": {
      "needs_background": "light"
     },
     "output_type": "display_data"
    }
   ],
   "source": [
    "df.plot()\n",
    "plt.legend().remove()\n",
    "plt.show()"
   ]
  },
  {
   "cell_type": "code",
   "execution_count": 118,
   "metadata": {},
   "outputs": [
    {
     "name": "stdout",
     "output_type": "stream",
     "text": [
      "                  DC\n",
      "Date                \n",
      "1975-01-31  0.000000\n",
      "1975-02-28  0.694096\n",
      "1975-03-31  1.416522\n",
      "1975-04-30  2.373550\n",
      "1975-05-31  3.730985\n"
     ]
    }
   ],
   "source": [
    "df_usa['DC']=(df_usa['DC']-df_usa['DC'][0])/(df_usa['DC'][0])*100.0\n",
    "print (df_usa.head())"
   ]
  },
  {
   "cell_type": "code",
   "execution_count": 119,
   "metadata": {},
   "outputs": [
    {
     "data": {
      "image/png": "[encoded data removed]",
      "text/plain": [
       "<Figure size 432x288 with 1 Axes>"
      ]
     },
     "metadata": {
      "needs_background": "light"
     },
     "output_type": "display_data"
    }
   ],
   "source": [
    "df_usa.plot()\n",
    "plt.legend().remove()"
   ]
  },
  {
   "cell_type": "markdown",
   "metadata": {},
   "source": [
    "## Save the modified dataframes into pickle"
   ]
  },
  {
   "cell_type": "code",
   "execution_count": 121,
   "metadata": {},
   "outputs": [],
   "source": [
    "df.to_pickle('data/percent_change_df.pickle')\n",
    "df_usa.to_pickle('data/percent_change_df_usa.pickle')"
   ]
  },
  {
   "cell_type": "markdown",
   "metadata": {},
   "source": [
    "## Print the correlation matrix"
   ]
  },
  {
   "cell_type": "code",
   "execution_count": 122,
   "metadata": {},
   "outputs": [],
   "source": [
    "corre=df.corr()"
   ]
  },
  {
   "cell_type": "code",
   "execution_count": 123,
   "metadata": {},
   "outputs": [
    {
     "name": "stdout",
     "output_type": "stream",
     "text": [
      "          AK        AL        AR        AZ        CA        CO        CT  \\\n",
      "AK  1.000000  0.950610  0.970727  0.918549  0.928878  0.957982  0.882907   \n",
      "AL  0.950610  1.000000  0.995365  0.941353  0.944611  0.956365  0.951143   \n",
      "AR  0.970727  0.995365  1.000000  0.940941  0.948633  0.968791  0.941536   \n",
      "AZ  0.918549  0.941353  0.940941  1.000000  0.978999  0.924302  0.912054   \n",
      "CA  0.928878  0.944611  0.948633  0.978999  1.000000  0.943838  0.931867   \n",
      "CO  0.957982  0.956365  0.968791  0.924302  0.943838  1.000000  0.867912   \n",
      "CT  0.882907  0.951143  0.941536  0.912054  0.931867  0.867912  1.000000   \n",
      "DE  0.939222  0.983180  0.977601  0.948140  0.963471  0.922901  0.979212   \n",
      "FL  0.910402  0.933786  0.933325  0.994902  0.987448  0.918498  0.918995   \n",
      "GA  0.910016  0.978893  0.970564  0.954176  0.956576  0.956381  0.940342   \n",
      "HI  0.951615  0.946633  0.953930  0.926143  0.957347  0.935663  0.906023   \n",
      "IA  0.958801  0.985911  0.990382  0.920274  0.936543  0.979528  0.906940   \n",
      "ID  0.957555  0.980872  0.980100  0.968185  0.959833  0.964796  0.907661   \n",
      "IL  0.904013  0.983782  0.971214  0.946507  0.950239  0.924773  0.958935   \n",
      "IN  0.912672  0.984715  0.979117  0.907848  0.921311  0.956316  0.920325   \n",
      "KS  0.967962  0.989147  0.994997  0.933504  0.946991  0.984437  0.922950   \n",
      "KY  0.951550  0.994125  0.994386  0.924891  0.941619  0.973429  0.932952   \n",
      "LA  0.993205  0.968219  0.983529  0.931266  0.937129  0.972375  0.893563   \n",
      "MA  0.936822  0.972762  0.974506  0.939802  0.968898  0.952264  0.972526   \n",
      "MD  0.947366  0.971778  0.971259  0.965444  0.977948  0.925058  0.965922   \n",
      "ME  0.945463  0.978501  0.978614  0.940899  0.969055  0.941830  0.979005   \n",
      "MI  0.789730  0.910277  0.894753  0.873891  0.879030  0.889078  0.861798   \n",
      "MN  0.940827  0.977932  0.978916  0.962166  0.973385  0.966376  0.940605   \n",
      "MO  0.944656  0.994059  0.991948  0.951500  0.961451  0.966420  0.954353   \n",
      "MS  0.965626  0.996844  0.997652  0.941704  0.943572  0.962962  0.942773   \n",
      "MT  0.983296  0.973811  0.983590  0.935268  0.946192  0.974257  0.897766   \n",
      "NC  0.947792  0.997657  0.993500  0.935766  0.944738  0.964969  0.947013   \n",
      "ND  0.963850  0.904883  0.930701  0.862478  0.897018  0.958337  0.814481   \n",
      "NE  0.957946  0.985559  0.991008  0.922777  0.937651  0.985007  0.907101   \n",
      "NH  0.919425  0.962460  0.961305  0.944044  0.967184  0.927049  0.983883   \n",
      "NJ  0.929938  0.972346  0.968348  0.946582  0.963151  0.912602  0.988685   \n",
      "NM  0.964283  0.993583  0.993007  0.944792  0.940339  0.942752  0.946737   \n",
      "NV  0.818955  0.882021  0.872360  0.967569  0.947571  0.850228  0.876372   \n",
      "NY  0.948231  0.979594  0.979637  0.937444  0.963692  0.938804  0.979819   \n",
      "OH  0.872611  0.970734  0.958681  0.900787  0.909497  0.928830  0.918834   \n",
      "OK  0.989363  0.950104  0.971085  0.911672  0.918525  0.968263  0.868297   \n",
      "OR  0.961858  0.973725  0.976833  0.958349  0.960678  0.978059  0.891531   \n",
      "PA  0.954573  0.988164  0.987451  0.933163  0.957303  0.944147  0.966768   \n",
      "RI  0.901443  0.957223  0.951273  0.947333  0.971400  0.903360  0.986329   \n",
      "SC  0.956145  0.997619  0.994975  0.947427  0.955807  0.968224  0.949201   \n",
      "SD  0.976841  0.975571  0.986254  0.916572  0.938523  0.985543  0.897181   \n",
      "TN  0.961976  0.991344  0.993542  0.938985  0.951755  0.981543  0.929113   \n",
      "TX  0.973953  0.933283  0.954645  0.904185  0.925386  0.981802  0.851609   \n",
      "UT  0.965930  0.976017  0.980740  0.942103  0.936776  0.980066  0.879923   \n",
      "VA  0.964951  0.977369  0.981478  0.960985  0.979141  0.947934  0.958910   \n",
      "VT  0.958821  0.980493  0.982971  0.929185  0.957197  0.940754  0.965613   \n",
      "WA  0.960210  0.978803  0.979703  0.959374  0.968355  0.975856  0.911316   \n",
      "WI  0.936055  0.991898  0.987227  0.939341  0.946806  0.957485  0.938094   \n",
      "WV  0.974658  0.983559  0.991477  0.926003  0.941005  0.970842  0.913201   \n",
      "WY  0.988386  0.950879  0.967230  0.918020  0.927068  0.957207  0.871133   \n",
      "\n",
      "          DE        FL        GA    ...           SD        TN        TX  \\\n",
      "AK  0.939222  0.910402  0.910016    ...     0.976841  0.961976  0.973953   \n",
      "AL  0.983180  0.933786  0.978893    ...     0.975571  0.991344  0.933283   \n",
      "AR  0.977601  0.933325  0.970564    ...     0.986254  0.993542  0.954645   \n",
      "AZ  0.948140  0.994902  0.954176    ...     0.916572  0.938985  0.904185   \n",
      "CA  0.963471  0.987448  0.956576    ...     0.938523  0.951755  0.925386   \n",
      "CO  0.922901  0.918498  0.956381    ...     0.985543  0.981543  0.981802   \n",
      "CT  0.979212  0.918995  0.940342    ...     0.897181  0.929113  0.851609   \n",
      "DE  1.000000  0.951559  0.959767    ...     0.952271  0.968703  0.905196   \n",
      "FL  0.951559  1.000000  0.949857    ...     0.909462  0.931394  0.894156   \n",
      "GA  0.959767  0.949857  1.000000    ...     0.946190  0.976720  0.920840   \n",
      "HI  0.959749  0.928067  0.914934    ...     0.962898  0.959153  0.942930   \n",
      "IA  0.957566  0.913595  0.961860    ...     0.991174  0.990092  0.950949   \n",
      "ID  0.965453  0.958898  0.964399    ...     0.973476  0.982738  0.947109   \n",
      "IL  0.980409  0.948063  0.980397    ...     0.936882  0.963318  0.878341   \n",
      "IN  0.950829  0.901073  0.979145    ...     0.962766  0.982231  0.916741   \n",
      "KS  0.963490  0.926410  0.972243    ...     0.990808  0.994839  0.965178   \n",
      "KY  0.969941  0.919505  0.976142    ...     0.986172  0.995269  0.946716   \n",
      "LA  0.948648  0.920750  0.933224    ...     0.986126  0.977357  0.976976   \n",
      "MA  0.979270  0.945686  0.973479    ...     0.958877  0.973909  0.931925   \n",
      "MD  0.994409  0.970221  0.949546    ...     0.949917  0.961269  0.909996   \n",
      "ME  0.992642  0.946505  0.962459    ...     0.962745  0.975447  0.927747   \n",
      "MI  0.872770  0.872711  0.956627    ...     0.861658  0.902391  0.811804   \n",
      "MN  0.970705  0.964055  0.982341    ...     0.962140  0.974715  0.929752   \n",
      "MO  0.979927  0.949094  0.989400    ...     0.972216  0.989395  0.937026   \n",
      "MS  0.978878  0.932382  0.971405    ...     0.982025  0.991397  0.945508   \n",
      "MT  0.959673  0.927971  0.937255    ...     0.993033  0.983486  0.967578   \n",
      "NC  0.977873  0.928771  0.982955    ...     0.979095  0.995732  0.942929   \n",
      "ND  0.883750  0.852304  0.866715    ...     0.972075  0.942586  0.977675   \n",
      "NE  0.951964  0.914967  0.971905    ...     0.988965  0.993620  0.961303   \n",
      "NH  0.979319  0.951727  0.966179    ...     0.934573  0.956362  0.906906   \n",
      "NJ  0.995655  0.953010  0.954570    ...     0.938526  0.956968  0.894687   \n",
      "NM  0.983575  0.936186  0.959112    ...     0.970505  0.982231  0.932144   \n",
      "NV  0.897914  0.974136  0.925119    ...     0.827538  0.869478  0.807780   \n",
      "NY  0.993195  0.941906  0.960317    ...     0.963018  0.975590  0.928339   \n",
      "OH  0.938535  0.897187  0.979353    ...     0.928852  0.959290  0.874790   \n",
      "OK  0.922388  0.899186  0.920367    ...     0.973934  0.963680  0.982237   \n",
      "OR  0.956256  0.951772  0.956837    ...     0.982865  0.983809  0.957350   \n",
      "PA  0.993713  0.934034  0.958628    ...     0.973813  0.983381  0.932505   \n",
      "RI  0.986297  0.960530  0.956843    ...     0.918707  0.943600  0.876169   \n",
      "SC  0.982418  0.941813  0.983608    ...     0.980460  0.995528  0.947991   \n",
      "SD  0.952271  0.909462  0.946190    ...     1.000000  0.990527  0.975451   \n",
      "TN  0.968703  0.931394  0.976720    ...     0.990527  1.000000  0.965360   \n",
      "TX  0.905196  0.894156  0.920840    ...     0.975451  0.965360  1.000000   \n",
      "UT  0.944134  0.927489  0.954523    ...     0.986529  0.987540  0.965167   \n",
      "VA  0.991646  0.963661  0.953639    ...     0.970004  0.975219  0.937394   \n",
      "VT  0.991892  0.931389  0.946890    ...     0.972780  0.977520  0.933145   \n",
      "WA  0.967400  0.955402  0.964809    ...     0.982142  0.987889  0.959602   \n",
      "WI  0.974950  0.937677  0.978093    ...     0.968737  0.981661  0.915762   \n",
      "WV  0.965842  0.918054  0.946463    ...     0.993422  0.987776  0.957410   \n",
      "WY  0.939724  0.909050  0.902505    ...     0.979877  0.960699  0.961576   \n",
      "\n",
      "          UT        VA        VT        WA        WI        WV        WY  \n",
      "AK  0.965930  0.964951  0.958821  0.960210  0.936055  0.974658  0.988386  \n",
      "AL  0.976017  0.977369  0.980493  0.978803  0.991898  0.983559  0.950879  \n",
      "AR  0.980740  0.981478  0.982971  0.979703  0.987227  0.991477  0.967230  \n",
      "AZ  0.942103  0.960985  0.929185  0.959374  0.939341  0.926003  0.918020  \n",
      "CA  0.936776  0.979141  0.957197  0.968355  0.946806  0.941005  0.927068  \n",
      "CO  0.980066  0.947934  0.940754  0.975856  0.957485  0.970842  0.957207  \n",
      "CT  0.879923  0.958910  0.965613  0.911316  0.938094  0.913201  0.871133  \n",
      "DE  0.944134  0.991646  0.991892  0.967400  0.974950  0.965842  0.939724  \n",
      "FL  0.927489  0.963661  0.931389  0.955402  0.937677  0.918054  0.909050  \n",
      "GA  0.954523  0.953639  0.946890  0.964809  0.978093  0.946463  0.902505  \n",
      "HI  0.951005  0.975256  0.973692  0.974030  0.929450  0.962724  0.955132  \n",
      "IA  0.983067  0.966235  0.968383  0.978601  0.988557  0.992622  0.966515  \n",
      "ID  0.991099  0.974354  0.962424  0.994931  0.974410  0.977901  0.966787  \n",
      "IL  0.941245  0.965452  0.960986  0.957938  0.991153  0.952909  0.909057  \n",
      "IN  0.959127  0.943743  0.951209  0.958179  0.985449  0.966034  0.912103  \n",
      "KS  0.983940  0.972481  0.972989  0.981029  0.986259  0.990333  0.967701  \n",
      "KY  0.977757  0.970752  0.976591  0.978236  0.991215  0.987644  0.951951  \n",
      "LA  0.981980  0.969873  0.964499  0.974605  0.957402  0.986929  0.992229  \n",
      "MA  0.938625  0.980677  0.980368  0.959016  0.969567  0.957944  0.926165  \n",
      "MD  0.945226  0.996427  0.987041  0.970457  0.966923  0.963980  0.950016  \n",
      "ME  0.944276  0.991829  0.994506  0.967511  0.970380  0.967736  0.941113  \n",
      "MI  0.870271  0.857898  0.850858  0.877117  0.932977  0.865697  0.786434  \n",
      "MN  0.959849  0.976155  0.963772  0.972113  0.988586  0.966955  0.941875  \n",
      "MO  0.969227  0.978032  0.975720  0.977378  0.994077  0.977025  0.942402  \n",
      "MS  0.980660  0.979150  0.980629  0.978682  0.988740  0.988824  0.965052  \n",
      "MT  0.989898  0.978262  0.974227  0.988154  0.966604  0.993566  0.992864  \n",
      "NC  0.977235  0.973429  0.978893  0.980673  0.988134  0.981299  0.945699  \n",
      "ND  0.949388  0.924781  0.925724  0.940117  0.887492  0.955114  0.964935  \n",
      "NE  0.982167  0.960764  0.962638  0.976456  0.984056  0.986173  0.955719  \n",
      "NH  0.918246  0.975999  0.972627  0.944601  0.958901  0.939030  0.908907  \n",
      "NJ  0.926330  0.987989  0.986252  0.952566  0.965988  0.952055  0.926662  \n",
      "NM  0.974356  0.980923  0.981065  0.975378  0.980793  0.982568  0.963901  \n",
      "NV  0.861735  0.898465  0.857518  0.895156  0.894654  0.843745  0.815002  \n",
      "NY  0.944261  0.991069  0.995243  0.965956  0.968309  0.967417  0.941047  \n",
      "OH  0.929908  0.922374  0.926757  0.933959  0.978707  0.936335  0.870180  \n",
      "OK  0.967549  0.947691  0.942107  0.955492  0.937309  0.970637  0.979176  \n",
      "OR  0.993829  0.972722  0.960634  0.996733  0.972407  0.982593  0.975069  \n",
      "PA  0.959148  0.991453  0.998046  0.975780  0.976575  0.981420  0.954295  \n",
      "RI  0.906264  0.977668  0.971910  0.942319  0.957574  0.931032  0.897234  \n",
      "SC  0.979546  0.980685  0.982222  0.985785  0.989575  0.983903  0.954652  \n",
      "SD  0.986529  0.970004  0.972780  0.982142  0.968737  0.993422  0.979877  \n",
      "TN  0.987540  0.975219  0.977520  0.987889  0.981661  0.987776  0.960699  \n",
      "TX  0.965167  0.937394  0.933145  0.959602  0.915762  0.957410  0.961576  \n",
      "UT  1.000000  0.959838  0.953090  0.989221  0.968098  0.984275  0.975030  \n",
      "VA  0.959838  1.000000  0.993355  0.979215  0.970616  0.977989  0.965372  \n",
      "VT  0.953090  0.993355  1.000000  0.970892  0.968508  0.979715  0.958775  \n",
      "WA  0.989221  0.979215  0.970892  1.000000  0.973312  0.981249  0.969242  \n",
      "WI  0.968098  0.970616  0.968508  0.973312  1.000000  0.977946  0.942673  \n",
      "WV  0.984275  0.977989  0.979715  0.981249  0.977946  1.000000  0.982668  \n",
      "WY  0.975030  0.965372  0.958775  0.969242  0.942673  0.982668  1.000000  \n",
      "\n",
      "[50 rows x 50 columns]\n"
     ]
    }
   ],
   "source": [
    "print (corre)"
   ]
  },
  {
   "cell_type": "code",
   "execution_count": null,
   "metadata": {},
   "outputs": [],
   "source": []
  }
 ],
 "metadata": {
  "kernelspec": {
   "display_name": "Python 3",
   "language": "python",
   "name": "python3"
  },
  "language_info": {
   "codemirror_mode": {
    "name": "ipython",
    "version": 3
   },
   "file_extension": ".py",
   "mimetype": "text/x-python",
   "name": "python",
   "nbconvert_exporter": "python",
   "pygments_lexer": "ipython3",
   "version": "3.6.6"
  }
 },
 "nbformat": 4,
 "nbformat_minor": 2
}
