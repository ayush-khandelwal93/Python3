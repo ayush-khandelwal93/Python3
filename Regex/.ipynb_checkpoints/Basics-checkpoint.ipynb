{
 "cells": [
  {
   "cell_type": "code",
   "execution_count": 1,
   "metadata": {},
   "outputs": [],
   "source": [
    "import re"
   ]
  },
  {
   "cell_type": "code",
   "execution_count": 2,
   "metadata": {},
   "outputs": [],
   "source": [
    "x='ancjsdbc15155g1re1g5reg5er5g54er1g1erg5e1g5re541g5e4r'"
   ]
  },
  {
   "cell_type": "code",
   "execution_count": 3,
   "metadata": {},
   "outputs": [],
   "source": [
    "re?"
   ]
  },
  {
   "cell_type": "code",
   "execution_count": 4,
   "metadata": {},
   "outputs": [
    {
     "data": {
      "text/plain": [
       "['anc']"
      ]
     },
     "execution_count": 4,
     "metadata": {},
     "output_type": "execute_result"
    }
   ],
   "source": [
    "re.findall('anc',x)"
   ]
  },
  {
   "cell_type": "code",
   "execution_count": 5,
   "metadata": {},
   "outputs": [
    {
     "data": {
      "text/plain": [
       "['a',\n",
       " 'n',\n",
       " 'c',\n",
       " 'j',\n",
       " 's',\n",
       " 'd',\n",
       " 'b',\n",
       " 'c',\n",
       " 'g',\n",
       " 'r',\n",
       " 'e',\n",
       " 'g',\n",
       " 'r',\n",
       " 'e',\n",
       " 'g',\n",
       " 'e',\n",
       " 'r',\n",
       " 'g',\n",
       " 'e',\n",
       " 'r',\n",
       " 'g',\n",
       " 'e',\n",
       " 'r',\n",
       " 'g',\n",
       " 'e',\n",
       " 'g',\n",
       " 'r',\n",
       " 'e',\n",
       " 'g',\n",
       " 'e',\n",
       " 'r']"
      ]
     },
     "execution_count": 5,
     "metadata": {},
     "output_type": "execute_result"
    }
   ],
   "source": [
    "re.findall('[a-z]',x)"
   ]
  },
  {
   "cell_type": "code",
   "execution_count": 7,
   "metadata": {},
   "outputs": [
    {
     "data": {
      "text/plain": [
       "['ancjsdbc',\n",
       " 'g',\n",
       " 're',\n",
       " 'g',\n",
       " 'reg',\n",
       " 'er',\n",
       " 'g',\n",
       " 'er',\n",
       " 'g',\n",
       " 'erg',\n",
       " 'e',\n",
       " 'g',\n",
       " 're',\n",
       " 'g',\n",
       " 'e',\n",
       " 'r']"
      ]
     },
     "execution_count": 7,
     "metadata": {},
     "output_type": "execute_result"
    }
   ],
   "source": [
    "re.findall('[a-z]+',x)"
   ]
  },
  {
   "cell_type": "code",
   "execution_count": 8,
   "metadata": {},
   "outputs": [
    {
     "data": {
      "text/plain": [
       "['15155',\n",
       " '1',\n",
       " '1',\n",
       " '5',\n",
       " '5',\n",
       " '5',\n",
       " '54',\n",
       " '1',\n",
       " '1',\n",
       " '5',\n",
       " '1',\n",
       " '5',\n",
       " '541',\n",
       " '5',\n",
       " '4']"
      ]
     },
     "execution_count": 8,
     "metadata": {},
     "output_type": "execute_result"
    }
   ],
   "source": [
    "re.findall('\\d+',x)"
   ]
  },
  {
   "cell_type": "code",
   "execution_count": 9,
   "metadata": {},
   "outputs": [
    {
     "data": {
      "text/plain": [
       "['151',\n",
       " '55',\n",
       " '1',\n",
       " '1',\n",
       " '5',\n",
       " '5',\n",
       " '5',\n",
       " '54',\n",
       " '1',\n",
       " '1',\n",
       " '5',\n",
       " '1',\n",
       " '5',\n",
       " '541',\n",
       " '5',\n",
       " '4']"
      ]
     },
     "execution_count": 9,
     "metadata": {},
     "output_type": "execute_result"
    }
   ],
   "source": [
    "re.findall('\\d{1,3}',x)"
   ]
  },
  {
   "cell_type": "code",
   "execution_count": 10,
   "metadata": {},
   "outputs": [
    {
     "data": {
      "text/plain": [
       "['bc']"
      ]
     },
     "execution_count": 10,
     "metadata": {},
     "output_type": "execute_result"
    }
   ],
   "source": [
    "re.findall('[abc]{2}',x)"
   ]
  },
  {
   "cell_type": "code",
   "execution_count": 11,
   "metadata": {},
   "outputs": [
    {
     "data": {
      "text/plain": [
       "['a', 'c', 'bc']"
      ]
     },
     "execution_count": 11,
     "metadata": {},
     "output_type": "execute_result"
    }
   ],
   "source": [
    "re.findall('[abc]+',x)"
   ]
  },
  {
   "cell_type": "code",
   "execution_count": 12,
   "metadata": {},
   "outputs": [],
   "source": [
    "x='dfnjkj9vfdv(vfdvfdvdfv)vfd'"
   ]
  },
  {
   "cell_type": "code",
   "execution_count": 13,
   "metadata": {},
   "outputs": [
    {
     "data": {
      "text/plain": [
       "['(vfdvfdvdfv)']"
      ]
     },
     "execution_count": 13,
     "metadata": {},
     "output_type": "execute_result"
    }
   ],
   "source": [
    "re.findall('\\(\\w+\\)',x)"
   ]
  },
  {
   "cell_type": "code",
   "execution_count": 15,
   "metadata": {},
   "outputs": [
    {
     "data": {
      "text/plain": [
       "['dfnjkj9vfdv', 'vfdvfdvdfv', 'vfd']"
      ]
     },
     "execution_count": 15,
     "metadata": {},
     "output_type": "execute_result"
    }
   ],
   "source": [
    "re.findall('(\\w+)',x)"
   ]
  },
  {
   "cell_type": "code",
   "execution_count": 17,
   "metadata": {},
   "outputs": [
    {
     "data": {
      "text/plain": [
       "['dfnjkj9vfdv', 'vfdvfdvdfv', 'vfd']"
      ]
     },
     "execution_count": 17,
     "metadata": {},
     "output_type": "execute_result"
    }
   ],
   "source": [
    "re.findall('\\w+',x)"
   ]
  },
  {
   "cell_type": "code",
   "execution_count": 18,
   "metadata": {},
   "outputs": [
    {
     "data": {
      "text/plain": [
       "['d',\n",
       " 'f',\n",
       " 'n',\n",
       " 'j',\n",
       " 'k',\n",
       " 'j',\n",
       " '9',\n",
       " 'v',\n",
       " 'f',\n",
       " 'd',\n",
       " 'v',\n",
       " '(',\n",
       " 'v',\n",
       " 'f',\n",
       " 'd',\n",
       " 'v',\n",
       " 'f',\n",
       " 'd',\n",
       " 'v',\n",
       " 'd',\n",
       " 'f',\n",
       " 'v',\n",
       " ')',\n",
       " 'v',\n",
       " 'f',\n",
       " 'd']"
      ]
     },
     "execution_count": 18,
     "metadata": {},
     "output_type": "execute_result"
    }
   ],
   "source": [
    "re.findall('.',x)"
   ]
  },
  {
   "cell_type": "code",
   "execution_count": 19,
   "metadata": {},
   "outputs": [
    {
     "data": {
      "text/plain": [
       "['dfnjkj9vfdv(vfdvfdvdfv)vfd', '']"
      ]
     },
     "execution_count": 19,
     "metadata": {},
     "output_type": "execute_result"
    }
   ],
   "source": [
    "re.findall('.*',x)"
   ]
  },
  {
   "cell_type": "code",
   "execution_count": 21,
   "metadata": {},
   "outputs": [
    {
     "data": {
      "text/plain": [
       "['dfnjkj', 'vfdv(vfdvfdvdfv)vfd']"
      ]
     },
     "execution_count": 21,
     "metadata": {},
     "output_type": "execute_result"
    }
   ],
   "source": [
    "re.findall('\\D+',x) ##matches a non digit character"
   ]
  },
  {
   "cell_type": "code",
   "execution_count": 22,
   "metadata": {},
   "outputs": [],
   "source": [
    "x='04/20/2009; 04/20/09; 4/20/09; 4/3/09'"
   ]
  },
  {
   "cell_type": "code",
   "execution_count": 24,
   "metadata": {},
   "outputs": [
    {
     "data": {
      "text/plain": [
       "['04/20/2009', '04/20/09', '4/20/09', '4/3/09']"
      ]
     },
     "execution_count": 24,
     "metadata": {},
     "output_type": "execute_result"
    }
   ],
   "source": [
    "re.findall('\\d{1,2}\\/\\d{1,2}\\/\\d{2,4}',x) # \\ is an escape character"
   ]
  },
  {
   "cell_type": "code",
   "execution_count": 25,
   "metadata": {},
   "outputs": [],
   "source": [
    "x='Mar-20-2009; Mar 20, 2009; March 20, 2009; Mar. 20, 2009; Mar 20 2009'"
   ]
  },
  {
   "cell_type": "code",
   "execution_count": 26,
   "metadata": {},
   "outputs": [
    {
     "data": {
      "text/plain": [
       "['Mar-20-2009',\n",
       " 'Mar 20, 2009',\n",
       " 'March 20, 2009',\n",
       " 'Mar. 20, 2009',\n",
       " 'Mar 20 2009']"
      ]
     },
     "execution_count": 26,
     "metadata": {},
     "output_type": "execute_result"
    }
   ],
   "source": [
    "re.findall('[A-Za-z]+[-. ][ ]*\\d+[-, ][ ]*\\d{2,4}',x)"
   ]
  },
  {
   "cell_type": "code",
   "execution_count": 27,
   "metadata": {},
   "outputs": [],
   "source": [
    "x='20 Mar 2009; 20 March 2009; 20 Mar. 2009; 20 March, 2009'"
   ]
  },
  {
   "cell_type": "code",
   "execution_count": 28,
   "metadata": {},
   "outputs": [
    {
     "data": {
      "text/plain": [
       "['20 Mar 2009', '20 March 2009', '20 Mar. 2009', '20 March, 2009']"
      ]
     },
     "execution_count": 28,
     "metadata": {},
     "output_type": "execute_result"
    }
   ],
   "source": [
    "re.findall('\\d{2}[ ][A-Za-z]*[., ][ ]*\\d{4}',x)"
   ]
  },
  {
   "cell_type": "code",
   "execution_count": 29,
   "metadata": {},
   "outputs": [],
   "source": [
    "x='Mar 20th, 2009; Mar 21st, 2009; Mar 22nd, 2009'"
   ]
  },
  {
   "cell_type": "code",
   "execution_count": 33,
   "metadata": {},
   "outputs": [
    {
     "data": {
      "text/plain": [
       "['Mar 20th, 2009', 'Mar 21st, 2009', 'Mar 22nd, 2009']"
      ]
     },
     "execution_count": 33,
     "metadata": {},
     "output_type": "execute_result"
    }
   ],
   "source": [
    "re.findall('[A-Za-z]+[ ]\\d{2}(?:th|st|nd)[, ]*\\d{4}',x) # be mindful of ?:"
   ]
  },
  {
   "cell_type": "code",
   "execution_count": 34,
   "metadata": {},
   "outputs": [],
   "source": [
    "x='Feb 2009; Sep 2009; Oct 2010'"
   ]
  },
  {
   "cell_type": "code",
   "execution_count": 35,
   "metadata": {},
   "outputs": [
    {
     "data": {
      "text/plain": [
       "['Feb 2009', 'Sep 2009', 'Oct 2010']"
      ]
     },
     "execution_count": 35,
     "metadata": {},
     "output_type": "execute_result"
    }
   ],
   "source": [
    "re.findall('[A-Za-z]+[ ]*\\d{4}',x)"
   ]
  },
  {
   "cell_type": "code",
   "execution_count": 36,
   "metadata": {},
   "outputs": [],
   "source": [
    "x='6/2008; 12/2009'"
   ]
  },
  {
   "cell_type": "code",
   "execution_count": 37,
   "metadata": {},
   "outputs": [
    {
     "data": {
      "text/plain": [
       "['6/2008', '12/2009']"
      ]
     },
     "execution_count": 37,
     "metadata": {},
     "output_type": "execute_result"
    }
   ],
   "source": [
    "re.findall('\\d{1,2}\\/\\d{4}',x)"
   ]
  },
  {
   "cell_type": "code",
   "execution_count": null,
   "metadata": {},
   "outputs": [],
   "source": []
  }
 ],
 "metadata": {
  "kernelspec": {
   "display_name": "Python 3",
   "language": "python",
   "name": "python3"
  },
  "language_info": {
   "codemirror_mode": {
    "name": "ipython",
    "version": 3
   },
   "file_extension": ".py",
   "mimetype": "text/x-python",
   "name": "python",
   "nbconvert_exporter": "python",
   "pygments_lexer": "ipython3",
   "version": "3.6.6"
  }
 },
 "nbformat": 4,
 "nbformat_minor": 2
}
