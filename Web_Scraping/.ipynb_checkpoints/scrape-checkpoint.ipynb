{
 "cells": [
  {
   "cell_type": "markdown",
   "metadata": {},
   "source": [
    "References\n",
    "https://medium.freecodecamp.org/better-web-scraping-in-python-with-selenium-beautiful-soup-and-pandas-d6390592e251"
   ]
  },
  {
   "cell_type": "code",
   "execution_count": 1,
   "metadata": {},
   "outputs": [],
   "source": [
    "from selenium import webdriver\n",
    "from selenium.webdriver.common.keys import Keys\n",
    "from bs4 import BeautifulSoup\n",
    "import re\n",
    "import pandas as pd\n",
    "import os"
   ]
  },
  {
   "cell_type": "code",
   "execution_count": 2,
   "metadata": {},
   "outputs": [],
   "source": [
    "url = \"http://kanview.ks.gov/PayRates/PayRates_Agency.aspx\"\n",
    "\n",
    "# create a new Firefox session\n",
    "driver = webdriver.Firefox()\n",
    "driver.implicitly_wait(30)\n",
    "driver.get(url)"
   ]
  },
  {
   "cell_type": "code",
   "execution_count": 3,
   "metadata": {},
   "outputs": [
    {
     "data": {
      "text/plain": [
       "\"\\nI faced this same problem and here's how I fixed it:\\n\\nDownload the geckodriver from here\\nExtract and unzip and move the geckodriver file to /usr/local/bin/ directory\\nRun python program with selenium Firefox webdriver.\\n\""
      ]
     },
     "execution_count": 3,
     "metadata": {},
     "output_type": "execute_result"
    }
   ],
   "source": [
    "\"\"\"\n",
    "I faced this same problem and here's how I fixed it:\n",
    "\n",
    "Download the geckodriver from here\n",
    "Extract and unzip and move the geckodriver file to /usr/local/bin/ directory\n",
    "Run python program with selenium Firefox webdriver.\n",
    "\"\"\""
   ]
  },
  {
   "cell_type": "code",
   "execution_count": 4,
   "metadata": {},
   "outputs": [],
   "source": [
    "python_button = driver.find_element_by_id('MainContent_uxLevel1_Agencies_uxAgencyBtn_33')"
   ]
  },
  {
   "cell_type": "code",
   "execution_count": 5,
   "metadata": {},
   "outputs": [],
   "source": [
    "python_button.click()"
   ]
  },
  {
   "cell_type": "code",
   "execution_count": 6,
   "metadata": {},
   "outputs": [],
   "source": [
    "datalist = [] #empty list\n",
    "x = 0"
   ]
  },
  {
   "cell_type": "code",
   "execution_count": 7,
   "metadata": {},
   "outputs": [],
   "source": [
    "python_button = driver.find_element_by_id('MainContent_uxLevel2_JobTitles_uxJobTitleBtn_' + str(1))\n",
    "python_button.click() "
   ]
  },
  {
   "cell_type": "code",
   "execution_count": 8,
   "metadata": {},
   "outputs": [],
   "source": [
    "soup_level2=BeautifulSoup(driver.page_source, 'lxml')"
   ]
  },
  {
   "cell_type": "code",
   "execution_count": 9,
   "metadata": {},
   "outputs": [],
   "source": [
    "table = soup_level2.find_all('table')[0]"
   ]
  },
  {
   "cell_type": "code",
   "execution_count": 10,
   "metadata": {},
   "outputs": [
    {
     "data": {
      "text/plain": [
       "<table border=\"1\" cellspacing=\"0\" class=\"dataView\" id=\"MainContent_uxLevel3_Employees\" rules=\"all\" style=\"border-collapse:collapse;\">\n",
       "<tbody><tr>\n",
       "<th abbr=\"Employee Name\" scope=\"col\"><a href=\"javascript:__doPostBack('ctl00$MainContent$uxLevel3_Employees','Sort$employee_name')\">Employee Name</a></th><th abbr=\"Job Title\" scope=\"col\"><a href=\"javascript:__doPostBack('ctl00$MainContent$uxLevel3_Employees','Sort$job_title')\">Job Title</a></th><th abbr=\"Overtime Pay\" scope=\"col\"><a href=\"javascript:__doPostBack('ctl00$MainContent$uxLevel3_Employees','Sort$overtime_pay')\">Overtime Pay</a></th><th abbr=\"Total Gross Pay\" scope=\"col\"><a href=\"javascript:__doPostBack('ctl00$MainContent$uxLevel3_Employees','Sort$total_gross_pay')\">Total Gross Pay</a></th>\n",
       "</tr><tr class=\"row\">\n",
       "<td>Armstrong, Micki A</td><td>Academic Advisor</td><td align=\"right\">$0.00</td><td align=\"right\">$43,289.84</td>\n",
       "</tr><tr class=\"altRow\">\n",
       "<td>Campbell, Laura L</td><td>Academic Advisor</td><td align=\"right\">$0.00</td><td align=\"right\">$27,858.53</td>\n",
       "</tr><tr class=\"row\">\n",
       "<td>Fitzhugh, Nanette J</td><td>Academic Advisor</td><td align=\"right\">$0.00</td><td align=\"right\">$54,308.05</td>\n",
       "</tr><tr class=\"altRow\">\n",
       "<td>Frank, Amanda D</td><td>Academic Advisor</td><td align=\"right\">$0.00</td><td align=\"right\">$30,615.03</td>\n",
       "</tr><tr class=\"row\">\n",
       "<td>Johansen, Vicki D</td><td>Academic Advisor</td><td align=\"right\">$0.00</td><td align=\"right\">$11,177.92</td>\n",
       "</tr><tr class=\"altRow\">\n",
       "<td>Johnson, Stephanie A</td><td>Academic Advisor</td><td align=\"right\">$0.00</td><td align=\"right\">$33,880.21</td>\n",
       "</tr><tr class=\"row\">\n",
       "<td>Klaus, Macy S</td><td>Academic Advisor</td><td align=\"right\">$0.00</td><td align=\"right\">$32,380.49</td>\n",
       "</tr><tr class=\"altRow\">\n",
       "<td>Leiker, Dawne P</td><td>Academic Advisor</td><td align=\"right\">$0.00</td><td align=\"right\">$34,000.50</td>\n",
       "</tr><tr class=\"row\">\n",
       "<td>Meininger, Kristine R</td><td>Academic Advisor</td><td align=\"right\">$0.00</td><td align=\"right\">$32,492.83</td>\n",
       "</tr><tr class=\"altRow\">\n",
       "<td>Newell, Rebecca L</td><td>Academic Advisor</td><td align=\"right\">$0.00</td><td align=\"right\">$33,693.04</td>\n",
       "</tr><tr class=\"row\">\n",
       "<td>Perryman, Janelle L</td><td>Academic Advisor</td><td align=\"right\">$0.00</td><td align=\"right\">$39,514.99</td>\n",
       "</tr><tr class=\"altRow\">\n",
       "<td>Prickett, Stacy K</td><td>Academic Advisor</td><td align=\"right\">$0.00</td><td align=\"right\">$36,898.36</td>\n",
       "</tr><tr class=\"row\">\n",
       "<td>Terry, Troy A</td><td>Academic Advisor</td><td align=\"right\">$0.00</td><td align=\"right\">$42,479.61</td>\n",
       "</tr>\n",
       "</tbody></table>"
      ]
     },
     "execution_count": 10,
     "metadata": {},
     "output_type": "execute_result"
    }
   ],
   "source": [
    "table"
   ]
  },
  {
   "cell_type": "code",
   "execution_count": 11,
   "metadata": {},
   "outputs": [],
   "source": [
    "df = pd.read_html(str(table),header=0)"
   ]
  },
  {
   "cell_type": "code",
   "execution_count": 12,
   "metadata": {},
   "outputs": [
    {
     "data": {
      "text/plain": [
       "[            Employee Name         Job Title Overtime Pay Total Gross Pay\n",
       " 0      Armstrong, Micki A  Academic Advisor        $0.00      $43,289.84\n",
       " 1       Campbell, Laura L  Academic Advisor        $0.00      $27,858.53\n",
       " 2     Fitzhugh, Nanette J  Academic Advisor        $0.00      $54,308.05\n",
       " 3         Frank, Amanda D  Academic Advisor        $0.00      $30,615.03\n",
       " 4       Johansen, Vicki D  Academic Advisor        $0.00      $11,177.92\n",
       " 5    Johnson, Stephanie A  Academic Advisor        $0.00      $33,880.21\n",
       " 6           Klaus, Macy S  Academic Advisor        $0.00      $32,380.49\n",
       " 7         Leiker, Dawne P  Academic Advisor        $0.00      $34,000.50\n",
       " 8   Meininger, Kristine R  Academic Advisor        $0.00      $32,492.83\n",
       " 9       Newell, Rebecca L  Academic Advisor        $0.00      $33,693.04\n",
       " 10    Perryman, Janelle L  Academic Advisor        $0.00      $39,514.99\n",
       " 11      Prickett, Stacy K  Academic Advisor        $0.00      $36,898.36\n",
       " 12          Terry, Troy A  Academic Advisor        $0.00      $42,479.61]"
      ]
     },
     "execution_count": 12,
     "metadata": {},
     "output_type": "execute_result"
    }
   ],
   "source": [
    "df"
   ]
  },
  {
   "cell_type": "code",
   "execution_count": 13,
   "metadata": {},
   "outputs": [
    {
     "data": {
      "text/html": [
       "<div>\n",
       "<style scoped>\n",
       "    .dataframe tbody tr th:only-of-type {\n",
       "        vertical-align: middle;\n",
       "    }\n",
       "\n",
       "    .dataframe tbody tr th {\n",
       "        vertical-align: top;\n",
       "    }\n",
       "\n",
       "    .dataframe thead th {\n",
       "        text-align: right;\n",
       "    }\n",
       "</style>\n",
       "<table border=\"1\" class=\"dataframe\">\n",
       "  <thead>\n",
       "    <tr style=\"text-align: right;\">\n",
       "      <th></th>\n",
       "      <th>Employee Name</th>\n",
       "      <th>Job Title</th>\n",
       "      <th>Overtime Pay</th>\n",
       "      <th>Total Gross Pay</th>\n",
       "    </tr>\n",
       "  </thead>\n",
       "  <tbody>\n",
       "    <tr>\n",
       "      <th>0</th>\n",
       "      <td>Armstrong, Micki A</td>\n",
       "      <td>Academic Advisor</td>\n",
       "      <td>$0.00</td>\n",
       "      <td>$43,289.84</td>\n",
       "    </tr>\n",
       "    <tr>\n",
       "      <th>1</th>\n",
       "      <td>Campbell, Laura L</td>\n",
       "      <td>Academic Advisor</td>\n",
       "      <td>$0.00</td>\n",
       "      <td>$27,858.53</td>\n",
       "    </tr>\n",
       "    <tr>\n",
       "      <th>2</th>\n",
       "      <td>Fitzhugh, Nanette J</td>\n",
       "      <td>Academic Advisor</td>\n",
       "      <td>$0.00</td>\n",
       "      <td>$54,308.05</td>\n",
       "    </tr>\n",
       "    <tr>\n",
       "      <th>3</th>\n",
       "      <td>Frank, Amanda D</td>\n",
       "      <td>Academic Advisor</td>\n",
       "      <td>$0.00</td>\n",
       "      <td>$30,615.03</td>\n",
       "    </tr>\n",
       "    <tr>\n",
       "      <th>4</th>\n",
       "      <td>Johansen, Vicki D</td>\n",
       "      <td>Academic Advisor</td>\n",
       "      <td>$0.00</td>\n",
       "      <td>$11,177.92</td>\n",
       "    </tr>\n",
       "    <tr>\n",
       "      <th>5</th>\n",
       "      <td>Johnson, Stephanie A</td>\n",
       "      <td>Academic Advisor</td>\n",
       "      <td>$0.00</td>\n",
       "      <td>$33,880.21</td>\n",
       "    </tr>\n",
       "    <tr>\n",
       "      <th>6</th>\n",
       "      <td>Klaus, Macy S</td>\n",
       "      <td>Academic Advisor</td>\n",
       "      <td>$0.00</td>\n",
       "      <td>$32,380.49</td>\n",
       "    </tr>\n",
       "    <tr>\n",
       "      <th>7</th>\n",
       "      <td>Leiker, Dawne P</td>\n",
       "      <td>Academic Advisor</td>\n",
       "      <td>$0.00</td>\n",
       "      <td>$34,000.50</td>\n",
       "    </tr>\n",
       "    <tr>\n",
       "      <th>8</th>\n",
       "      <td>Meininger, Kristine R</td>\n",
       "      <td>Academic Advisor</td>\n",
       "      <td>$0.00</td>\n",
       "      <td>$32,492.83</td>\n",
       "    </tr>\n",
       "    <tr>\n",
       "      <th>9</th>\n",
       "      <td>Newell, Rebecca L</td>\n",
       "      <td>Academic Advisor</td>\n",
       "      <td>$0.00</td>\n",
       "      <td>$33,693.04</td>\n",
       "    </tr>\n",
       "    <tr>\n",
       "      <th>10</th>\n",
       "      <td>Perryman, Janelle L</td>\n",
       "      <td>Academic Advisor</td>\n",
       "      <td>$0.00</td>\n",
       "      <td>$39,514.99</td>\n",
       "    </tr>\n",
       "    <tr>\n",
       "      <th>11</th>\n",
       "      <td>Prickett, Stacy K</td>\n",
       "      <td>Academic Advisor</td>\n",
       "      <td>$0.00</td>\n",
       "      <td>$36,898.36</td>\n",
       "    </tr>\n",
       "    <tr>\n",
       "      <th>12</th>\n",
       "      <td>Terry, Troy A</td>\n",
       "      <td>Academic Advisor</td>\n",
       "      <td>$0.00</td>\n",
       "      <td>$42,479.61</td>\n",
       "    </tr>\n",
       "  </tbody>\n",
       "</table>\n",
       "</div>"
      ],
      "text/plain": [
       "            Employee Name         Job Title Overtime Pay Total Gross Pay\n",
       "0      Armstrong, Micki A  Academic Advisor        $0.00      $43,289.84\n",
       "1       Campbell, Laura L  Academic Advisor        $0.00      $27,858.53\n",
       "2     Fitzhugh, Nanette J  Academic Advisor        $0.00      $54,308.05\n",
       "3         Frank, Amanda D  Academic Advisor        $0.00      $30,615.03\n",
       "4       Johansen, Vicki D  Academic Advisor        $0.00      $11,177.92\n",
       "5    Johnson, Stephanie A  Academic Advisor        $0.00      $33,880.21\n",
       "6           Klaus, Macy S  Academic Advisor        $0.00      $32,380.49\n",
       "7         Leiker, Dawne P  Academic Advisor        $0.00      $34,000.50\n",
       "8   Meininger, Kristine R  Academic Advisor        $0.00      $32,492.83\n",
       "9       Newell, Rebecca L  Academic Advisor        $0.00      $33,693.04\n",
       "10    Perryman, Janelle L  Academic Advisor        $0.00      $39,514.99\n",
       "11      Prickett, Stacy K  Academic Advisor        $0.00      $36,898.36\n",
       "12          Terry, Troy A  Academic Advisor        $0.00      $42,479.61"
      ]
     },
     "execution_count": 13,
     "metadata": {},
     "output_type": "execute_result"
    }
   ],
   "source": [
    "df[0]"
   ]
  },
  {
   "cell_type": "code",
   "execution_count": 14,
   "metadata": {},
   "outputs": [],
   "source": [
    "driver.execute_script(\"window.history.go(-1)\")"
   ]
  },
  {
   "cell_type": "code",
   "execution_count": null,
   "metadata": {},
   "outputs": [],
   "source": []
  }
 ],
 "metadata": {
  "kernelspec": {
   "display_name": "Python 3",
   "language": "python",
   "name": "python3"
  },
  "language_info": {
   "codemirror_mode": {
    "name": "ipython",
    "version": 3
   },
   "file_extension": ".py",
   "mimetype": "text/x-python",
   "name": "python",
   "nbconvert_exporter": "python",
   "pygments_lexer": "ipython3",
   "version": "3.6.6"
  }
 },
 "nbformat": 4,
 "nbformat_minor": 2
}
